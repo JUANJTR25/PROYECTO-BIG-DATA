{
  "nbformat": 4,
  "nbformat_minor": 0,
  "metadata": {
    "colab": {
      "provenance": []
    },
    "kernelspec": {
      "name": "python3",
      "display_name": "Python 3"
    },
    "language_info": {
      "name": "python"
    }
  },
  "cells": [
    {
      "cell_type": "code",
      "source": [
        "def suma_dos_numeros_enteros_y_divida_en_un_tercero (a,b,c):\n",
        "  if type (a)==int and type (b)==int and type (c)==int:\n",
        "    if c==0:\n",
        "      print (\"no puedo hacer la division\")\n",
        "    else:\n",
        "      print ((a+b)/c)\n",
        "  else:\n",
        "    print (\"no se puede realizar\")"
      ],
      "metadata": {
        "id": "8eEKpZQg9ESy"
      },
      "execution_count": 39,
      "outputs": []
    },
    {
      "cell_type": "code",
      "source": [
        "suma_dos_numeros_enteros_y_divida_en_un_tercero(\"carro\",6,0)"
      ],
      "metadata": {
        "colab": {
          "base_uri": "https://localhost:8080/"
        },
        "id": "VaB5NciDGfFf",
        "outputId": "e8be117c-f7b2-41e6-ba7f-d9fbe643effb"
      },
      "execution_count": 41,
      "outputs": [
        {
          "output_type": "stream",
          "name": "stdout",
          "text": [
            "no se puede realizar\n"
          ]
        }
      ]
    },
    {
      "cell_type": "code",
      "source": [],
      "metadata": {
        "id": "IxVBydxAGlfe"
      },
      "execution_count": null,
      "outputs": []
    }
  ]
}